{
 "cells": [
  {
   "cell_type": "code",
   "execution_count": 2,
   "metadata": {
    "collapsed": true
   },
   "outputs": [],
   "source": [
    "import numpy as np\n",
    "from pandas import Series, DataFrame\n",
    "import pandas as pd \n",
    "\n",
    "from numpy.random import randn"
   ]
  },
  {
   "cell_type": "code",
   "execution_count": 3,
   "metadata": {
    "collapsed": false
   },
   "outputs": [
    {
     "data": {
      "text/plain": [
       "A    1\n",
       "B    2\n",
       "C    3\n",
       "D    4\n",
       "dtype: int64"
      ]
     },
     "execution_count": 3,
     "metadata": {},
     "output_type": "execute_result"
    }
   ],
   "source": [
    "ser1 = Series([1,2,3,4],index = ['A','B','C','D'])\n",
    "ser1"
   ]
  },
  {
   "cell_type": "code",
   "execution_count": 4,
   "metadata": {
    "collapsed": false
   },
   "outputs": [
    {
     "data": {
      "text/plain": [
       "A     1\n",
       "B     2\n",
       "C     3\n",
       "D     4\n",
       "E   NaN\n",
       "F   NaN\n",
       "dtype: float64"
      ]
     },
     "execution_count": 4,
     "metadata": {},
     "output_type": "execute_result"
    }
   ],
   "source": [
    "ser2 = ser1.reindex(['A','B','C','D','E','F'])\n",
    "ser2"
   ]
  },
  {
   "cell_type": "code",
   "execution_count": 5,
   "metadata": {
    "collapsed": false
   },
   "outputs": [
    {
     "data": {
      "text/plain": [
       "A     1\n",
       "B     2\n",
       "C     3\n",
       "D     4\n",
       "E   NaN\n",
       "F   NaN\n",
       "G     0\n",
       "dtype: float64"
      ]
     },
     "execution_count": 5,
     "metadata": {},
     "output_type": "execute_result"
    }
   ],
   "source": [
    "ser2.reindex(['A','B','C','D','E','F','G'],fill_value=0)"
   ]
  },
  {
   "cell_type": "code",
   "execution_count": 6,
   "metadata": {
    "collapsed": false
   },
   "outputs": [
    {
     "data": {
      "text/plain": [
       "0        USA\n",
       "5     Mexico\n",
       "10    Canada\n",
       "dtype: object"
      ]
     },
     "execution_count": 6,
     "metadata": {},
     "output_type": "execute_result"
    }
   ],
   "source": [
    "ser3 = Series(['USA','Mexico','Canada'],index=[0,5,10])\n",
    "ser3"
   ]
  },
  {
   "cell_type": "code",
   "execution_count": 7,
   "metadata": {
    "collapsed": false
   },
   "outputs": [
    {
     "data": {
      "text/plain": [
       "0        USA\n",
       "1        USA\n",
       "2        USA\n",
       "3        USA\n",
       "4        USA\n",
       "5     Mexico\n",
       "6     Mexico\n",
       "7     Mexico\n",
       "8     Mexico\n",
       "9     Mexico\n",
       "10    Canada\n",
       "11    Canada\n",
       "12    Canada\n",
       "13    Canada\n",
       "14    Canada\n",
       "dtype: object"
      ]
     },
     "execution_count": 7,
     "metadata": {},
     "output_type": "execute_result"
    }
   ],
   "source": [
    "ranger = range(15)\n",
    "ser3.reindex(ranger,method='ffill')"
   ]
  },
  {
   "cell_type": "code",
   "execution_count": 9,
   "metadata": {
    "collapsed": false
   },
   "outputs": [
    {
     "data": {
      "text/html": [
       "<div style=\"max-height:1000px;max-width:1500px;overflow:auto;\">\n",
       "<table border=\"1\" class=\"dataframe\">\n",
       "  <thead>\n",
       "    <tr style=\"text-align: right;\">\n",
       "      <th></th>\n",
       "      <th>col1</th>\n",
       "      <th>col2</th>\n",
       "      <th>col3</th>\n",
       "      <th>col4</th>\n",
       "      <th>col5</th>\n",
       "    </tr>\n",
       "  </thead>\n",
       "  <tbody>\n",
       "    <tr>\n",
       "      <th>A</th>\n",
       "      <td> 0.784344</td>\n",
       "      <td> 0.358296</td>\n",
       "      <td>-1.776142</td>\n",
       "      <td>-0.817136</td>\n",
       "      <td>-1.730637</td>\n",
       "    </tr>\n",
       "    <tr>\n",
       "      <th>B</th>\n",
       "      <td>-0.315961</td>\n",
       "      <td> 1.854868</td>\n",
       "      <td>-0.963207</td>\n",
       "      <td> 2.426252</td>\n",
       "      <td>-1.565647</td>\n",
       "    </tr>\n",
       "    <tr>\n",
       "      <th>D</th>\n",
       "      <td> 0.099807</td>\n",
       "      <td> 1.414813</td>\n",
       "      <td>-0.435944</td>\n",
       "      <td>-0.776816</td>\n",
       "      <td>-0.506856</td>\n",
       "    </tr>\n",
       "    <tr>\n",
       "      <th>E</th>\n",
       "      <td>-0.643955</td>\n",
       "      <td>-1.172568</td>\n",
       "      <td>-0.404061</td>\n",
       "      <td>-0.703940</td>\n",
       "      <td> 1.258337</td>\n",
       "    </tr>\n",
       "    <tr>\n",
       "      <th>F</th>\n",
       "      <td> 0.155710</td>\n",
       "      <td> 1.639633</td>\n",
       "      <td>-1.388666</td>\n",
       "      <td> 2.385602</td>\n",
       "      <td>-1.007078</td>\n",
       "    </tr>\n",
       "  </tbody>\n",
       "</table>\n",
       "</div>"
      ],
      "text/plain": [
       "       col1      col2      col3      col4      col5\n",
       "A  0.784344  0.358296 -1.776142 -0.817136 -1.730637\n",
       "B -0.315961  1.854868 -0.963207  2.426252 -1.565647\n",
       "D  0.099807  1.414813 -0.435944 -0.776816 -0.506856\n",
       "E -0.643955 -1.172568 -0.404061 -0.703940  1.258337\n",
       "F  0.155710  1.639633 -1.388666  2.385602 -1.007078"
      ]
     },
     "execution_count": 9,
     "metadata": {},
     "output_type": "execute_result"
    }
   ],
   "source": [
    "dframe = DataFrame(randn(25).reshape((5,5)),index = ['A','B','D','E','F'],\n",
    "                   columns = ['col1','col2','col3','col4','col5'])\n",
    "dframe"
   ]
  },
  {
   "cell_type": "code",
   "execution_count": 10,
   "metadata": {
    "collapsed": false
   },
   "outputs": [
    {
     "data": {
      "text/html": [
       "<div style=\"max-height:1000px;max-width:1500px;overflow:auto;\">\n",
       "<table border=\"1\" class=\"dataframe\">\n",
       "  <thead>\n",
       "    <tr style=\"text-align: right;\">\n",
       "      <th></th>\n",
       "      <th>col1</th>\n",
       "      <th>col2</th>\n",
       "      <th>col3</th>\n",
       "      <th>col4</th>\n",
       "      <th>col5</th>\n",
       "    </tr>\n",
       "  </thead>\n",
       "  <tbody>\n",
       "    <tr>\n",
       "      <th>A</th>\n",
       "      <td> 0.784344</td>\n",
       "      <td> 0.358296</td>\n",
       "      <td>-1.776142</td>\n",
       "      <td>-0.817136</td>\n",
       "      <td>-1.730637</td>\n",
       "    </tr>\n",
       "    <tr>\n",
       "      <th>B</th>\n",
       "      <td>-0.315961</td>\n",
       "      <td> 1.854868</td>\n",
       "      <td>-0.963207</td>\n",
       "      <td> 2.426252</td>\n",
       "      <td>-1.565647</td>\n",
       "    </tr>\n",
       "    <tr>\n",
       "      <th>C</th>\n",
       "      <td>      NaN</td>\n",
       "      <td>      NaN</td>\n",
       "      <td>      NaN</td>\n",
       "      <td>      NaN</td>\n",
       "      <td>      NaN</td>\n",
       "    </tr>\n",
       "    <tr>\n",
       "      <th>D</th>\n",
       "      <td> 0.099807</td>\n",
       "      <td> 1.414813</td>\n",
       "      <td>-0.435944</td>\n",
       "      <td>-0.776816</td>\n",
       "      <td>-0.506856</td>\n",
       "    </tr>\n",
       "    <tr>\n",
       "      <th>E</th>\n",
       "      <td>-0.643955</td>\n",
       "      <td>-1.172568</td>\n",
       "      <td>-0.404061</td>\n",
       "      <td>-0.703940</td>\n",
       "      <td> 1.258337</td>\n",
       "    </tr>\n",
       "    <tr>\n",
       "      <th>F</th>\n",
       "      <td> 0.155710</td>\n",
       "      <td> 1.639633</td>\n",
       "      <td>-1.388666</td>\n",
       "      <td> 2.385602</td>\n",
       "      <td>-1.007078</td>\n",
       "    </tr>\n",
       "  </tbody>\n",
       "</table>\n",
       "</div>"
      ],
      "text/plain": [
       "       col1      col2      col3      col4      col5\n",
       "A  0.784344  0.358296 -1.776142 -0.817136 -1.730637\n",
       "B -0.315961  1.854868 -0.963207  2.426252 -1.565647\n",
       "C       NaN       NaN       NaN       NaN       NaN\n",
       "D  0.099807  1.414813 -0.435944 -0.776816 -0.506856\n",
       "E -0.643955 -1.172568 -0.404061 -0.703940  1.258337\n",
       "F  0.155710  1.639633 -1.388666  2.385602 -1.007078"
      ]
     },
     "execution_count": 10,
     "metadata": {},
     "output_type": "execute_result"
    }
   ],
   "source": [
    "dframe2 = dframe.reindex(['A','B','C','D','E','F'])\n",
    "dframe2"
   ]
  },
  {
   "cell_type": "code",
   "execution_count": 11,
   "metadata": {
    "collapsed": true
   },
   "outputs": [],
   "source": [
    "new_columns = ['col1','col2','col3','col4','col5','col6']"
   ]
  },
  {
   "cell_type": "code",
   "execution_count": 13,
   "metadata": {
    "collapsed": false
   },
   "outputs": [
    {
     "data": {
      "text/html": [
       "<div style=\"max-height:1000px;max-width:1500px;overflow:auto;\">\n",
       "<table border=\"1\" class=\"dataframe\">\n",
       "  <thead>\n",
       "    <tr style=\"text-align: right;\">\n",
       "      <th></th>\n",
       "      <th>col1</th>\n",
       "      <th>col2</th>\n",
       "      <th>col3</th>\n",
       "      <th>col4</th>\n",
       "      <th>col5</th>\n",
       "    </tr>\n",
       "  </thead>\n",
       "  <tbody>\n",
       "    <tr>\n",
       "      <th>A</th>\n",
       "      <td> 0.784344</td>\n",
       "      <td> 0.358296</td>\n",
       "      <td>-1.776142</td>\n",
       "      <td>-0.817136</td>\n",
       "      <td>-1.730637</td>\n",
       "    </tr>\n",
       "    <tr>\n",
       "      <th>B</th>\n",
       "      <td>-0.315961</td>\n",
       "      <td> 1.854868</td>\n",
       "      <td>-0.963207</td>\n",
       "      <td> 2.426252</td>\n",
       "      <td>-1.565647</td>\n",
       "    </tr>\n",
       "    <tr>\n",
       "      <th>C</th>\n",
       "      <td>      NaN</td>\n",
       "      <td>      NaN</td>\n",
       "      <td>      NaN</td>\n",
       "      <td>      NaN</td>\n",
       "      <td>      NaN</td>\n",
       "    </tr>\n",
       "    <tr>\n",
       "      <th>D</th>\n",
       "      <td> 0.099807</td>\n",
       "      <td> 1.414813</td>\n",
       "      <td>-0.435944</td>\n",
       "      <td>-0.776816</td>\n",
       "      <td>-0.506856</td>\n",
       "    </tr>\n",
       "    <tr>\n",
       "      <th>E</th>\n",
       "      <td>-0.643955</td>\n",
       "      <td>-1.172568</td>\n",
       "      <td>-0.404061</td>\n",
       "      <td>-0.703940</td>\n",
       "      <td> 1.258337</td>\n",
       "    </tr>\n",
       "    <tr>\n",
       "      <th>F</th>\n",
       "      <td> 0.155710</td>\n",
       "      <td> 1.639633</td>\n",
       "      <td>-1.388666</td>\n",
       "      <td> 2.385602</td>\n",
       "      <td>-1.007078</td>\n",
       "    </tr>\n",
       "  </tbody>\n",
       "</table>\n",
       "</div>"
      ],
      "text/plain": [
       "       col1      col2      col3      col4      col5\n",
       "A  0.784344  0.358296 -1.776142 -0.817136 -1.730637\n",
       "B -0.315961  1.854868 -0.963207  2.426252 -1.565647\n",
       "C       NaN       NaN       NaN       NaN       NaN\n",
       "D  0.099807  1.414813 -0.435944 -0.776816 -0.506856\n",
       "E -0.643955 -1.172568 -0.404061 -0.703940  1.258337\n",
       "F  0.155710  1.639633 -1.388666  2.385602 -1.007078"
      ]
     },
     "execution_count": 13,
     "metadata": {},
     "output_type": "execute_result"
    }
   ],
   "source": [
    "dframe2.reindex(columns = new_columns)\n",
    "dframe2"
   ]
  },
  {
   "cell_type": "code",
   "execution_count": 14,
   "metadata": {
    "collapsed": false
   },
   "outputs": [
    {
     "data": {
      "text/html": [
       "<div style=\"max-height:1000px;max-width:1500px;overflow:auto;\">\n",
       "<table border=\"1\" class=\"dataframe\">\n",
       "  <thead>\n",
       "    <tr style=\"text-align: right;\">\n",
       "      <th></th>\n",
       "      <th>col1</th>\n",
       "      <th>col2</th>\n",
       "      <th>col3</th>\n",
       "      <th>col4</th>\n",
       "      <th>col5</th>\n",
       "    </tr>\n",
       "  </thead>\n",
       "  <tbody>\n",
       "    <tr>\n",
       "      <th>A</th>\n",
       "      <td> 0.784344</td>\n",
       "      <td> 0.358296</td>\n",
       "      <td>-1.776142</td>\n",
       "      <td>-0.817136</td>\n",
       "      <td>-1.730637</td>\n",
       "    </tr>\n",
       "    <tr>\n",
       "      <th>B</th>\n",
       "      <td>-0.315961</td>\n",
       "      <td> 1.854868</td>\n",
       "      <td>-0.963207</td>\n",
       "      <td> 2.426252</td>\n",
       "      <td>-1.565647</td>\n",
       "    </tr>\n",
       "    <tr>\n",
       "      <th>D</th>\n",
       "      <td> 0.099807</td>\n",
       "      <td> 1.414813</td>\n",
       "      <td>-0.435944</td>\n",
       "      <td>-0.776816</td>\n",
       "      <td>-0.506856</td>\n",
       "    </tr>\n",
       "    <tr>\n",
       "      <th>E</th>\n",
       "      <td>-0.643955</td>\n",
       "      <td>-1.172568</td>\n",
       "      <td>-0.404061</td>\n",
       "      <td>-0.703940</td>\n",
       "      <td> 1.258337</td>\n",
       "    </tr>\n",
       "    <tr>\n",
       "      <th>F</th>\n",
       "      <td> 0.155710</td>\n",
       "      <td> 1.639633</td>\n",
       "      <td>-1.388666</td>\n",
       "      <td> 2.385602</td>\n",
       "      <td>-1.007078</td>\n",
       "    </tr>\n",
       "  </tbody>\n",
       "</table>\n",
       "</div>"
      ],
      "text/plain": [
       "       col1      col2      col3      col4      col5\n",
       "A  0.784344  0.358296 -1.776142 -0.817136 -1.730637\n",
       "B -0.315961  1.854868 -0.963207  2.426252 -1.565647\n",
       "D  0.099807  1.414813 -0.435944 -0.776816 -0.506856\n",
       "E -0.643955 -1.172568 -0.404061 -0.703940  1.258337\n",
       "F  0.155710  1.639633 -1.388666  2.385602 -1.007078"
      ]
     },
     "execution_count": 14,
     "metadata": {},
     "output_type": "execute_result"
    }
   ],
   "source": [
    "dframe"
   ]
  },
  {
   "cell_type": "code",
   "execution_count": 15,
   "metadata": {
    "collapsed": false
   },
   "outputs": [
    {
     "data": {
      "text/html": [
       "<div style=\"max-height:1000px;max-width:1500px;overflow:auto;\">\n",
       "<table border=\"1\" class=\"dataframe\">\n",
       "  <thead>\n",
       "    <tr style=\"text-align: right;\">\n",
       "      <th></th>\n",
       "      <th>col1</th>\n",
       "      <th>col2</th>\n",
       "      <th>col3</th>\n",
       "      <th>col4</th>\n",
       "      <th>col5</th>\n",
       "      <th>col6</th>\n",
       "    </tr>\n",
       "  </thead>\n",
       "  <tbody>\n",
       "    <tr>\n",
       "      <th>A</th>\n",
       "      <td> 0.784344</td>\n",
       "      <td> 0.358296</td>\n",
       "      <td>-1.776142</td>\n",
       "      <td>-0.817136</td>\n",
       "      <td>-1.730637</td>\n",
       "      <td>NaN</td>\n",
       "    </tr>\n",
       "    <tr>\n",
       "      <th>B</th>\n",
       "      <td>-0.315961</td>\n",
       "      <td> 1.854868</td>\n",
       "      <td>-0.963207</td>\n",
       "      <td> 2.426252</td>\n",
       "      <td>-1.565647</td>\n",
       "      <td>NaN</td>\n",
       "    </tr>\n",
       "    <tr>\n",
       "      <th>C</th>\n",
       "      <td>      NaN</td>\n",
       "      <td>      NaN</td>\n",
       "      <td>      NaN</td>\n",
       "      <td>      NaN</td>\n",
       "      <td>      NaN</td>\n",
       "      <td>NaN</td>\n",
       "    </tr>\n",
       "    <tr>\n",
       "      <th>D</th>\n",
       "      <td> 0.099807</td>\n",
       "      <td> 1.414813</td>\n",
       "      <td>-0.435944</td>\n",
       "      <td>-0.776816</td>\n",
       "      <td>-0.506856</td>\n",
       "      <td>NaN</td>\n",
       "    </tr>\n",
       "    <tr>\n",
       "      <th>E</th>\n",
       "      <td>-0.643955</td>\n",
       "      <td>-1.172568</td>\n",
       "      <td>-0.404061</td>\n",
       "      <td>-0.703940</td>\n",
       "      <td> 1.258337</td>\n",
       "      <td>NaN</td>\n",
       "    </tr>\n",
       "    <tr>\n",
       "      <th>F</th>\n",
       "      <td> 0.155710</td>\n",
       "      <td> 1.639633</td>\n",
       "      <td>-1.388666</td>\n",
       "      <td> 2.385602</td>\n",
       "      <td>-1.007078</td>\n",
       "      <td>NaN</td>\n",
       "    </tr>\n",
       "  </tbody>\n",
       "</table>\n",
       "</div>"
      ],
      "text/plain": [
       "       col1      col2      col3      col4      col5  col6\n",
       "A  0.784344  0.358296 -1.776142 -0.817136 -1.730637   NaN\n",
       "B -0.315961  1.854868 -0.963207  2.426252 -1.565647   NaN\n",
       "C       NaN       NaN       NaN       NaN       NaN   NaN\n",
       "D  0.099807  1.414813 -0.435944 -0.776816 -0.506856   NaN\n",
       "E -0.643955 -1.172568 -0.404061 -0.703940  1.258337   NaN\n",
       "F  0.155710  1.639633 -1.388666  2.385602 -1.007078   NaN"
      ]
     },
     "execution_count": 15,
     "metadata": {},
     "output_type": "execute_result"
    }
   ],
   "source": [
    "dframe.ix[['A','B','C','D','E','F'],new_columns]"
   ]
  },
  {
   "cell_type": "code",
   "execution_count": null,
   "metadata": {
    "collapsed": true
   },
   "outputs": [],
   "source": [
    "\n"
   ]
  },
  {
   "cell_type": "code",
   "execution_count": null,
   "metadata": {
    "collapsed": true
   },
   "outputs": [],
   "source": [
    "\n"
   ]
  },
  {
   "cell_type": "code",
   "execution_count": null,
   "metadata": {
    "collapsed": true
   },
   "outputs": [],
   "source": []
  }
 ],
 "metadata": {
  "kernelspec": {
   "display_name": "Python 2",
   "language": "python",
   "name": "python2"
  },
  "language_info": {
   "codemirror_mode": {
    "name": "ipython",
    "version": 2
   },
   "file_extension": ".py",
   "mimetype": "text/x-python",
   "name": "python",
   "nbconvert_exporter": "python",
   "pygments_lexer": "ipython2",
   "version": "2.7.11"
  }
 },
 "nbformat": 4,
 "nbformat_minor": 0
}
